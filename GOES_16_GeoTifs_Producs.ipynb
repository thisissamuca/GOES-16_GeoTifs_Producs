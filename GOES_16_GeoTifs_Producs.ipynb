{
  "nbformat": 4,
  "nbformat_minor": 0,
  "metadata": {
    "colab": {
      "provenance": [],
      "authorship_tag": "ABX9TyOlfLHR8XpbY8pzRZ7fbQg6",
      "include_colab_link": true
    },
    "kernelspec": {
      "name": "python3",
      "display_name": "Python 3"
    },
    "language_info": {
      "name": "python"
    }
  },
  "cells": [
    {
      "cell_type": "markdown",
      "metadata": {
        "id": "view-in-github",
        "colab_type": "text"
      },
      "source": [
        "<a href=\"https://colab.research.google.com/github/thisissamuca/GOES-16_GeoTifs_Producs/blob/main/GOES_16_GeoTifs_Producs.ipynb\" target=\"_parent\"><img src=\"https://colab.research.google.com/assets/colab-badge.svg\" alt=\"Open In Colab\"/></a>"
      ]
    },
    {
      "cell_type": "code",
      "source": [
        "pip install s3fs"
      ],
      "metadata": {
        "colab": {
          "base_uri": "https://localhost:8080/"
        },
        "id": "1fPknzkgUNM8",
        "outputId": "b1218331-ac67-497f-ccf5-d61a3440f890"
      },
      "execution_count": null,
      "outputs": [
        {
          "output_type": "stream",
          "name": "stdout",
          "text": [
            "Collecting s3fs\n",
            "  Downloading s3fs-2025.3.2-py3-none-any.whl.metadata (1.9 kB)\n",
            "Collecting aiobotocore<3.0.0,>=2.5.4 (from s3fs)\n",
            "  Downloading aiobotocore-2.22.0-py3-none-any.whl.metadata (24 kB)\n",
            "Requirement already satisfied: fsspec==2025.3.2.* in /usr/local/lib/python3.11/dist-packages (from s3fs) (2025.3.2)\n",
            "Requirement already satisfied: aiohttp!=4.0.0a0,!=4.0.0a1 in /usr/local/lib/python3.11/dist-packages (from s3fs) (3.11.15)\n",
            "Collecting aioitertools<1.0.0,>=0.5.1 (from aiobotocore<3.0.0,>=2.5.4->s3fs)\n",
            "  Downloading aioitertools-0.12.0-py3-none-any.whl.metadata (3.8 kB)\n",
            "Collecting botocore<1.37.4,>=1.37.2 (from aiobotocore<3.0.0,>=2.5.4->s3fs)\n",
            "  Downloading botocore-1.37.3-py3-none-any.whl.metadata (5.7 kB)\n",
            "Requirement already satisfied: python-dateutil<3.0.0,>=2.1 in /usr/local/lib/python3.11/dist-packages (from aiobotocore<3.0.0,>=2.5.4->s3fs) (2.9.0.post0)\n",
            "Collecting jmespath<2.0.0,>=0.7.1 (from aiobotocore<3.0.0,>=2.5.4->s3fs)\n",
            "  Downloading jmespath-1.0.1-py3-none-any.whl.metadata (7.6 kB)\n",
            "Requirement already satisfied: multidict<7.0.0,>=6.0.0 in /usr/local/lib/python3.11/dist-packages (from aiobotocore<3.0.0,>=2.5.4->s3fs) (6.4.3)\n",
            "Requirement already satisfied: wrapt<2.0.0,>=1.10.10 in /usr/local/lib/python3.11/dist-packages (from aiobotocore<3.0.0,>=2.5.4->s3fs) (1.17.2)\n",
            "Requirement already satisfied: aiohappyeyeballs>=2.3.0 in /usr/local/lib/python3.11/dist-packages (from aiohttp!=4.0.0a0,!=4.0.0a1->s3fs) (2.6.1)\n",
            "Requirement already satisfied: aiosignal>=1.1.2 in /usr/local/lib/python3.11/dist-packages (from aiohttp!=4.0.0a0,!=4.0.0a1->s3fs) (1.3.2)\n",
            "Requirement already satisfied: attrs>=17.3.0 in /usr/local/lib/python3.11/dist-packages (from aiohttp!=4.0.0a0,!=4.0.0a1->s3fs) (25.3.0)\n",
            "Requirement already satisfied: frozenlist>=1.1.1 in /usr/local/lib/python3.11/dist-packages (from aiohttp!=4.0.0a0,!=4.0.0a1->s3fs) (1.6.0)\n",
            "Requirement already satisfied: propcache>=0.2.0 in /usr/local/lib/python3.11/dist-packages (from aiohttp!=4.0.0a0,!=4.0.0a1->s3fs) (0.3.1)\n",
            "Requirement already satisfied: yarl<2.0,>=1.17.0 in /usr/local/lib/python3.11/dist-packages (from aiohttp!=4.0.0a0,!=4.0.0a1->s3fs) (1.20.0)\n",
            "Requirement already satisfied: urllib3!=2.2.0,<3,>=1.25.4 in /usr/local/lib/python3.11/dist-packages (from botocore<1.37.4,>=1.37.2->aiobotocore<3.0.0,>=2.5.4->s3fs) (2.4.0)\n",
            "Requirement already satisfied: six>=1.5 in /usr/local/lib/python3.11/dist-packages (from python-dateutil<3.0.0,>=2.1->aiobotocore<3.0.0,>=2.5.4->s3fs) (1.17.0)\n",
            "Requirement already satisfied: idna>=2.0 in /usr/local/lib/python3.11/dist-packages (from yarl<2.0,>=1.17.0->aiohttp!=4.0.0a0,!=4.0.0a1->s3fs) (3.10)\n",
            "Downloading s3fs-2025.3.2-py3-none-any.whl (30 kB)\n",
            "Downloading aiobotocore-2.22.0-py3-none-any.whl (78 kB)\n",
            "\u001b[2K   \u001b[90m━━━━━━━━━━━━━━━━━━━━━━━━━━━━━━━━━━━━━━━━\u001b[0m \u001b[32m78.9/78.9 kB\u001b[0m \u001b[31m4.6 MB/s\u001b[0m eta \u001b[36m0:00:00\u001b[0m\n",
            "\u001b[?25hDownloading aioitertools-0.12.0-py3-none-any.whl (24 kB)\n",
            "Downloading botocore-1.37.3-py3-none-any.whl (13.3 MB)\n",
            "\u001b[2K   \u001b[90m━━━━━━━━━━━━━━━━━━━━━━━━━━━━━━━━━━━━━━━━\u001b[0m \u001b[32m13.3/13.3 MB\u001b[0m \u001b[31m66.6 MB/s\u001b[0m eta \u001b[36m0:00:00\u001b[0m\n",
            "\u001b[?25hDownloading jmespath-1.0.1-py3-none-any.whl (20 kB)\n",
            "Installing collected packages: jmespath, aioitertools, botocore, aiobotocore, s3fs\n",
            "Successfully installed aiobotocore-2.22.0 aioitertools-0.12.0 botocore-1.37.3 jmespath-1.0.1 s3fs-2025.3.2\n"
          ]
        }
      ]
    },
    {
      "cell_type": "code",
      "source": [
        "pip install netCDF4"
      ],
      "metadata": {
        "colab": {
          "base_uri": "https://localhost:8080/"
        },
        "id": "BupFzAYUUUS1",
        "outputId": "4fb74425-44f1-46e3-8ede-e801087338a0"
      },
      "execution_count": null,
      "outputs": [
        {
          "output_type": "stream",
          "name": "stdout",
          "text": [
            "Collecting netCDF4\n",
            "  Downloading netCDF4-1.7.2-cp311-cp311-manylinux_2_17_x86_64.manylinux2014_x86_64.whl.metadata (1.8 kB)\n",
            "Collecting cftime (from netCDF4)\n",
            "  Downloading cftime-1.6.4.post1-cp311-cp311-manylinux_2_17_x86_64.manylinux2014_x86_64.whl.metadata (8.7 kB)\n",
            "Requirement already satisfied: certifi in /usr/local/lib/python3.11/dist-packages (from netCDF4) (2025.4.26)\n",
            "Requirement already satisfied: numpy in /usr/local/lib/python3.11/dist-packages (from netCDF4) (2.0.2)\n",
            "Downloading netCDF4-1.7.2-cp311-cp311-manylinux_2_17_x86_64.manylinux2014_x86_64.whl (9.3 MB)\n",
            "\u001b[2K   \u001b[90m━━━━━━━━━━━━━━━━━━━━━━━━━━━━━━━━━━━━━━━━\u001b[0m \u001b[32m9.3/9.3 MB\u001b[0m \u001b[31m28.6 MB/s\u001b[0m eta \u001b[36m0:00:00\u001b[0m\n",
            "\u001b[?25hDownloading cftime-1.6.4.post1-cp311-cp311-manylinux_2_17_x86_64.manylinux2014_x86_64.whl (1.4 MB)\n",
            "\u001b[2K   \u001b[90m━━━━━━━━━━━━━━━━━━━━━━━━━━━━━━━━━━━━━━━━\u001b[0m \u001b[32m1.4/1.4 MB\u001b[0m \u001b[31m33.8 MB/s\u001b[0m eta \u001b[36m0:00:00\u001b[0m\n",
            "\u001b[?25hInstalling collected packages: cftime, netCDF4\n",
            "Successfully installed cftime-1.6.4.post1 netCDF4-1.7.2\n"
          ]
        }
      ]
    },
    {
      "cell_type": "code",
      "source": [
        "pip install satpy"
      ],
      "metadata": {
        "colab": {
          "base_uri": "https://localhost:8080/"
        },
        "id": "WoTwFdIQ9RTh",
        "outputId": "05564ebc-ae9c-4d3f-dd50-a69d9e48412b"
      },
      "execution_count": null,
      "outputs": [
        {
          "output_type": "stream",
          "name": "stdout",
          "text": [
            "Collecting satpy\n",
            "  Downloading satpy-0.56.0-py3-none-any.whl.metadata (11 kB)\n",
            "Requirement already satisfied: dask>=0.17.1 in /usr/local/lib/python3.11/dist-packages (from dask[array]>=0.17.1->satpy) (2024.12.1)\n",
            "Collecting donfig (from satpy)\n",
            "  Downloading donfig-0.8.1.post1-py3-none-any.whl.metadata (5.0 kB)\n",
            "Requirement already satisfied: numpy>=1.21 in /usr/local/lib/python3.11/dist-packages (from satpy) (2.0.2)\n",
            "Requirement already satisfied: packaging in /usr/local/lib/python3.11/dist-packages (from satpy) (24.2)\n",
            "Requirement already satisfied: pillow in /usr/local/lib/python3.11/dist-packages (from satpy) (11.2.1)\n",
            "Requirement already satisfied: platformdirs in /usr/local/lib/python3.11/dist-packages (from satpy) (4.3.7)\n",
            "Requirement already satisfied: pooch in /usr/local/lib/python3.11/dist-packages (from satpy) (1.8.2)\n",
            "Collecting pykdtree (from satpy)\n",
            "  Downloading pykdtree-1.4.1-cp311-cp311-manylinux_2_17_x86_64.manylinux2014_x86_64.whl.metadata (8.8 kB)\n",
            "Collecting pyorbital (from satpy)\n",
            "  Downloading pyorbital-1.10.1-py3-none-any.whl.metadata (42 kB)\n",
            "\u001b[2K     \u001b[90m━━━━━━━━━━━━━━━━━━━━━━━━━━━━━━━━━━━━━━━━\u001b[0m \u001b[32m42.4/42.4 kB\u001b[0m \u001b[31m1.8 MB/s\u001b[0m eta \u001b[36m0:00:00\u001b[0m\n",
            "\u001b[?25hRequirement already satisfied: pyproj>=2.2 in /usr/local/lib/python3.11/dist-packages (from satpy) (3.7.1)\n",
            "Collecting pyresample>=1.24.0 (from satpy)\n",
            "  Downloading pyresample-1.34.0-cp311-cp311-manylinux_2_17_x86_64.manylinux2014_x86_64.whl.metadata (4.9 kB)\n",
            "Requirement already satisfied: pyyaml>=5.1 in /usr/local/lib/python3.11/dist-packages (from satpy) (6.0.2)\n",
            "Collecting trollimage>=1.24 (from satpy)\n",
            "  Downloading trollimage-1.26.0-cp311-cp311-manylinux_2_17_x86_64.manylinux2014_x86_64.whl.metadata (1.6 kB)\n",
            "Collecting trollsift (from satpy)\n",
            "  Downloading trollsift-0.5.3-py3-none-any.whl.metadata (780 bytes)\n",
            "Requirement already satisfied: xarray>=0.14.1 in /usr/local/lib/python3.11/dist-packages (from satpy) (2025.3.1)\n",
            "Collecting zarr (from satpy)\n",
            "  Downloading zarr-3.0.7-py3-none-any.whl.metadata (9.9 kB)\n",
            "Requirement already satisfied: click>=8.1 in /usr/local/lib/python3.11/dist-packages (from dask>=0.17.1->dask[array]>=0.17.1->satpy) (8.1.8)\n",
            "Requirement already satisfied: cloudpickle>=3.0.0 in /usr/local/lib/python3.11/dist-packages (from dask>=0.17.1->dask[array]>=0.17.1->satpy) (3.1.1)\n",
            "Requirement already satisfied: fsspec>=2021.09.0 in /usr/local/lib/python3.11/dist-packages (from dask>=0.17.1->dask[array]>=0.17.1->satpy) (2025.3.2)\n",
            "Requirement already satisfied: partd>=1.4.0 in /usr/local/lib/python3.11/dist-packages (from dask>=0.17.1->dask[array]>=0.17.1->satpy) (1.4.2)\n",
            "Requirement already satisfied: toolz>=0.10.0 in /usr/local/lib/python3.11/dist-packages (from dask>=0.17.1->dask[array]>=0.17.1->satpy) (0.12.1)\n",
            "Requirement already satisfied: importlib_metadata>=4.13.0 in /usr/local/lib/python3.11/dist-packages (from dask>=0.17.1->dask[array]>=0.17.1->satpy) (8.7.0)\n",
            "Requirement already satisfied: certifi in /usr/local/lib/python3.11/dist-packages (from pyproj>=2.2->satpy) (2025.4.26)\n",
            "Collecting configobj (from pyresample>=1.24.0->satpy)\n",
            "  Downloading configobj-5.0.9-py2.py3-none-any.whl.metadata (3.2 kB)\n",
            "Requirement already satisfied: shapely in /usr/local/lib/python3.11/dist-packages (from pyresample>=1.24.0->satpy) (2.1.0)\n",
            "Requirement already satisfied: pandas>=2.1 in /usr/local/lib/python3.11/dist-packages (from xarray>=0.14.1->satpy) (2.2.2)\n",
            "Requirement already satisfied: requests>=2.19.0 in /usr/local/lib/python3.11/dist-packages (from pooch->satpy) (2.32.3)\n",
            "Requirement already satisfied: defusedxml in /usr/local/lib/python3.11/dist-packages (from pyorbital->satpy) (0.7.1)\n",
            "Requirement already satisfied: scipy in /usr/local/lib/python3.11/dist-packages (from pyorbital->satpy) (1.15.2)\n",
            "Collecting numcodecs>=0.14 (from numcodecs[crc32c]>=0.14->zarr->satpy)\n",
            "  Downloading numcodecs-0.16.0-cp311-cp311-manylinux_2_17_x86_64.manylinux2014_x86_64.whl.metadata (3.0 kB)\n",
            "Requirement already satisfied: typing-extensions>=4.9 in /usr/local/lib/python3.11/dist-packages (from zarr->satpy) (4.13.2)\n",
            "Requirement already satisfied: zipp>=3.20 in /usr/local/lib/python3.11/dist-packages (from importlib_metadata>=4.13.0->dask>=0.17.1->dask[array]>=0.17.1->satpy) (3.21.0)\n",
            "Collecting crc32c>=2.7 (from numcodecs[crc32c]>=0.14->zarr->satpy)\n",
            "  Downloading crc32c-2.7.1-cp311-cp311-manylinux_2_5_x86_64.manylinux1_x86_64.manylinux_2_17_x86_64.manylinux2014_x86_64.whl.metadata (7.3 kB)\n",
            "Requirement already satisfied: python-dateutil>=2.8.2 in /usr/local/lib/python3.11/dist-packages (from pandas>=2.1->xarray>=0.14.1->satpy) (2.9.0.post0)\n",
            "Requirement already satisfied: pytz>=2020.1 in /usr/local/lib/python3.11/dist-packages (from pandas>=2.1->xarray>=0.14.1->satpy) (2025.2)\n",
            "Requirement already satisfied: tzdata>=2022.7 in /usr/local/lib/python3.11/dist-packages (from pandas>=2.1->xarray>=0.14.1->satpy) (2025.2)\n",
            "Requirement already satisfied: locket in /usr/local/lib/python3.11/dist-packages (from partd>=1.4.0->dask>=0.17.1->dask[array]>=0.17.1->satpy) (1.0.0)\n",
            "Requirement already satisfied: charset-normalizer<4,>=2 in /usr/local/lib/python3.11/dist-packages (from requests>=2.19.0->pooch->satpy) (3.4.1)\n",
            "Requirement already satisfied: idna<4,>=2.5 in /usr/local/lib/python3.11/dist-packages (from requests>=2.19.0->pooch->satpy) (3.10)\n",
            "Requirement already satisfied: urllib3<3,>=1.21.1 in /usr/local/lib/python3.11/dist-packages (from requests>=2.19.0->pooch->satpy) (2.4.0)\n",
            "Requirement already satisfied: six>=1.5 in /usr/local/lib/python3.11/dist-packages (from python-dateutil>=2.8.2->pandas>=2.1->xarray>=0.14.1->satpy) (1.17.0)\n",
            "Downloading satpy-0.56.0-py3-none-any.whl (1.8 MB)\n",
            "\u001b[2K   \u001b[90m━━━━━━━━━━━━━━━━━━━━━━━━━━━━━━━━━━━━━━━━\u001b[0m \u001b[32m1.8/1.8 MB\u001b[0m \u001b[31m26.7 MB/s\u001b[0m eta \u001b[36m0:00:00\u001b[0m\n",
            "\u001b[?25hDownloading pyresample-1.34.0-cp311-cp311-manylinux_2_17_x86_64.manylinux2014_x86_64.whl (4.6 MB)\n",
            "\u001b[2K   \u001b[90m━━━━━━━━━━━━━━━━━━━━━━━━━━━━━━━━━━━━━━━━\u001b[0m \u001b[32m4.6/4.6 MB\u001b[0m \u001b[31m71.0 MB/s\u001b[0m eta \u001b[36m0:00:00\u001b[0m\n",
            "\u001b[?25hDownloading pykdtree-1.4.1-cp311-cp311-manylinux_2_17_x86_64.manylinux2014_x86_64.whl (398 kB)\n",
            "\u001b[2K   \u001b[90m━━━━━━━━━━━━━━━━━━━━━━━━━━━━━━━━━━━━━━━━\u001b[0m \u001b[32m398.3/398.3 kB\u001b[0m \u001b[31m26.3 MB/s\u001b[0m eta \u001b[36m0:00:00\u001b[0m\n",
            "\u001b[?25hDownloading trollimage-1.26.0-cp311-cp311-manylinux_2_17_x86_64.manylinux2014_x86_64.whl (658 kB)\n",
            "\u001b[2K   \u001b[90m━━━━━━━━━━━━━━━━━━━━━━━━━━━━━━━━━━━━━━━━\u001b[0m \u001b[32m658.4/658.4 kB\u001b[0m \u001b[31m33.3 MB/s\u001b[0m eta \u001b[36m0:00:00\u001b[0m\n",
            "\u001b[?25hDownloading donfig-0.8.1.post1-py3-none-any.whl (21 kB)\n",
            "Downloading pyorbital-1.10.1-py3-none-any.whl (118 kB)\n",
            "\u001b[2K   \u001b[90m━━━━━━━━━━━━━━━━━━━━━━━━━━━━━━━━━━━━━━━━\u001b[0m \u001b[32m118.3/118.3 kB\u001b[0m \u001b[31m9.0 MB/s\u001b[0m eta \u001b[36m0:00:00\u001b[0m\n",
            "\u001b[?25hDownloading trollsift-0.5.3-py3-none-any.whl (32 kB)\n",
            "Downloading zarr-3.0.7-py3-none-any.whl (203 kB)\n",
            "\u001b[2K   \u001b[90m━━━━━━━━━━━━━━━━━━━━━━━━━━━━━━━━━━━━━━━━\u001b[0m \u001b[32m203.9/203.9 kB\u001b[0m \u001b[31m16.9 MB/s\u001b[0m eta \u001b[36m0:00:00\u001b[0m\n",
            "\u001b[?25hDownloading numcodecs-0.16.0-cp311-cp311-manylinux_2_17_x86_64.manylinux2014_x86_64.whl (8.8 MB)\n",
            "\u001b[2K   \u001b[90m━━━━━━━━━━━━━━━━━━━━━━━━━━━━━━━━━━━━━━━━\u001b[0m \u001b[32m8.8/8.8 MB\u001b[0m \u001b[31m76.5 MB/s\u001b[0m eta \u001b[36m0:00:00\u001b[0m\n",
            "\u001b[?25hDownloading configobj-5.0.9-py2.py3-none-any.whl (35 kB)\n",
            "Downloading crc32c-2.7.1-cp311-cp311-manylinux_2_5_x86_64.manylinux1_x86_64.manylinux_2_17_x86_64.manylinux2014_x86_64.whl (53 kB)\n",
            "\u001b[2K   \u001b[90m━━━━━━━━━━━━━━━━━━━━━━━━━━━━━━━━━━━━━━━━\u001b[0m \u001b[32m53.7/53.7 kB\u001b[0m \u001b[31m4.3 MB/s\u001b[0m eta \u001b[36m0:00:00\u001b[0m\n",
            "\u001b[?25hInstalling collected packages: trollsift, trollimage, pykdtree, numcodecs, donfig, crc32c, configobj, pyresample, pyorbital, zarr, satpy\n",
            "Successfully installed configobj-5.0.9 crc32c-2.7.1 donfig-0.8.1.post1 numcodecs-0.16.0 pykdtree-1.4.1 pyorbital-1.10.1 pyresample-1.34.0 satpy-0.56.0 trollimage-1.26.0 trollsift-0.5.3 zarr-3.0.7\n"
          ]
        }
      ]
    },
    {
      "cell_type": "code",
      "source": [
        "import glob\n",
        "import satpy\n",
        "from satpy import Scene\n",
        "from satpy.readers import FSFile\n",
        "import fsspec\n",
        "import os"
      ],
      "metadata": {
        "id": "ySkPrcwmUKAi"
      },
      "execution_count": 233,
      "outputs": []
    },
    {
      "cell_type": "code",
      "source": [
        "# Montando drive\n",
        "\n",
        "from google.colab import drive\n",
        "drive.mount('/content/drive')"
      ],
      "metadata": {
        "colab": {
          "base_uri": "https://localhost:8080/"
        },
        "id": "zM67xrDrGrr3",
        "outputId": "c9f4bf22-e2d2-431e-fa53-2f783305dfb1"
      },
      "execution_count": 130,
      "outputs": [
        {
          "output_type": "stream",
          "name": "stdout",
          "text": [
            "Mounted at /content/drive\n"
          ]
        }
      ]
    },
    {
      "cell_type": "code",
      "source": [
        "# Visualizando ops readers disponíveis\n",
        "\n",
        "from satpy import available_readers\n",
        "available_readers()"
      ],
      "metadata": {
        "id": "SlPW5ADRcBZZ"
      },
      "execution_count": null,
      "outputs": []
    },
    {
      "cell_type": "code",
      "source": [
        "# Criando laços de repetição\n",
        "\n",
        "# Variavéis fixas\n",
        "\n",
        "bucket_name = 'noaa-goes16'\n",
        "\n",
        "product_name = 'ABI-L1b-RadF' # Choose a GOES-R ABI product\n",
        "\n",
        "#product_name = 'ABI-L2-CMIPF' # Choose a GOES-R ABI product\n",
        "\n",
        "directory = f\"/content/drive/MyDrive/NBR\"\n",
        "\n",
        "# Variáveis dinâmicas\n",
        "\n",
        "files = []\n",
        "\n",
        "bands = [3,6]\n",
        "\n",
        "year = 2022\n",
        "\n",
        "hour = 17\n",
        "\n",
        "day_of_year = 152\n",
        "\n",
        "#day_of_year_final = 212\n",
        "\n",
        "for day in range(day_of_year, day_of_year+7):\n",
        "\n",
        "  filename = f'{bucket_name}/{product_name}/{year}/{day}/{hour}/*_G16_s{year}{day}{hour}00*'\n",
        "\n",
        "  the_files = fsspec.open_files(\"simplecache::s3://\" + filename, s3={'anon': True})\n",
        "\n",
        "  # the_files = fsspec.open_files(\"s3://\" + filename, anon=True)\n",
        "\n",
        "  fs_files = [FSFile(open_file) for open_file in the_files]\n",
        "\n",
        "  files.append(fs_files)\n",
        "\n",
        "files"
      ],
      "metadata": {
        "colab": {
          "base_uri": "https://localhost:8080/"
        },
        "collapsed": true,
        "id": "fCeTxFoWG-Bw",
        "outputId": "8186e413-f1fe-4c2b-9d1f-012c4b44bcef"
      },
      "execution_count": 236,
      "outputs": [
        {
          "output_type": "execute_result",
          "data": {
            "text/plain": [
              "[[<FSFile \"noaa-goes16/ABI-L1b-RadF/2022/152/17/OR_ABI-L1b-RadF-M6C01_G16_s20221521700206_e20221521709514_c20221521709560.nc\">,\n",
              "  <FSFile \"noaa-goes16/ABI-L1b-RadF/2022/152/17/OR_ABI-L1b-RadF-M6C02_G16_s20221521700206_e20221521709514_c20221521709556.nc\">,\n",
              "  <FSFile \"noaa-goes16/ABI-L1b-RadF/2022/152/17/OR_ABI-L1b-RadF-M6C03_G16_s20221521700206_e20221521709514_c20221521709567.nc\">,\n",
              "  <FSFile \"noaa-goes16/ABI-L1b-RadF/2022/152/17/OR_ABI-L1b-RadF-M6C04_G16_s20221521700206_e20221521709514_c20221521709541.nc\">,\n",
              "  <FSFile \"noaa-goes16/ABI-L1b-RadF/2022/152/17/OR_ABI-L1b-RadF-M6C05_G16_s20221521700206_e20221521709514_c20221521709570.nc\">,\n",
              "  <FSFile \"noaa-goes16/ABI-L1b-RadF/2022/152/17/OR_ABI-L1b-RadF-M6C06_G16_s20221521700206_e20221521709519_c20221521709564.nc\">,\n",
              "  <FSFile \"noaa-goes16/ABI-L1b-RadF/2022/152/17/OR_ABI-L1b-RadF-M6C07_G16_s20221521700206_e20221521709525_c20221521709575.nc\">,\n",
              "  <FSFile \"noaa-goes16/ABI-L1b-RadF/2022/152/17/OR_ABI-L1b-RadF-M6C08_G16_s20221521700206_e20221521709514_c20221521709573.nc\">,\n",
              "  <FSFile \"noaa-goes16/ABI-L1b-RadF/2022/152/17/OR_ABI-L1b-RadF-M6C09_G16_s20221521700206_e20221521709519_c20221521709587.nc\">,\n",
              "  <FSFile \"noaa-goes16/ABI-L1b-RadF/2022/152/17/OR_ABI-L1b-RadF-M6C10_G16_s20221521700206_e20221521709525_c20221521709572.nc\">,\n",
              "  <FSFile \"noaa-goes16/ABI-L1b-RadF/2022/152/17/OR_ABI-L1b-RadF-M6C11_G16_s20221521700206_e20221521709514_c20221521709577.nc\">,\n",
              "  <FSFile \"noaa-goes16/ABI-L1b-RadF/2022/152/17/OR_ABI-L1b-RadF-M6C12_G16_s20221521700206_e20221521709519_c20221521709584.nc\">,\n",
              "  <FSFile \"noaa-goes16/ABI-L1b-RadF/2022/152/17/OR_ABI-L1b-RadF-M6C13_G16_s20221521700206_e20221521709525_c20221521709593.nc\">,\n",
              "  <FSFile \"noaa-goes16/ABI-L1b-RadF/2022/152/17/OR_ABI-L1b-RadF-M6C14_G16_s20221521700206_e20221521709514_c20221521709590.nc\">,\n",
              "  <FSFile \"noaa-goes16/ABI-L1b-RadF/2022/152/17/OR_ABI-L1b-RadF-M6C15_G16_s20221521700206_e20221521709519_c20221521709574.nc\">,\n",
              "  <FSFile \"noaa-goes16/ABI-L1b-RadF/2022/152/17/OR_ABI-L1b-RadF-M6C16_G16_s20221521700206_e20221521709525_c20221521709581.nc\">],\n",
              " [<FSFile \"noaa-goes16/ABI-L1b-RadF/2022/153/17/OR_ABI-L1b-RadF-M6C01_G16_s20221531700207_e20221531709515_c20221531709562.nc\">,\n",
              "  <FSFile \"noaa-goes16/ABI-L1b-RadF/2022/153/17/OR_ABI-L1b-RadF-M6C02_G16_s20221531700207_e20221531709515_c20221531709559.nc\">,\n",
              "  <FSFile \"noaa-goes16/ABI-L1b-RadF/2022/153/17/OR_ABI-L1b-RadF-M6C03_G16_s20221531700207_e20221531709515_c20221531709570.nc\">,\n",
              "  <FSFile \"noaa-goes16/ABI-L1b-RadF/2022/153/17/OR_ABI-L1b-RadF-M6C04_G16_s20221531700207_e20221531709515_c20221531709549.nc\">,\n",
              "  <FSFile \"noaa-goes16/ABI-L1b-RadF/2022/153/17/OR_ABI-L1b-RadF-M6C05_G16_s20221531700207_e20221531709515_c20221531709567.nc\">,\n",
              "  <FSFile \"noaa-goes16/ABI-L1b-RadF/2022/153/17/OR_ABI-L1b-RadF-M6C06_G16_s20221531700207_e20221531709520_c20221531709565.nc\">,\n",
              "  <FSFile \"noaa-goes16/ABI-L1b-RadF/2022/153/17/OR_ABI-L1b-RadF-M6C07_G16_s20221531700207_e20221531709526_c20221531709573.nc\">,\n",
              "  <FSFile \"noaa-goes16/ABI-L1b-RadF/2022/153/17/OR_ABI-L1b-RadF-M6C08_G16_s20221531700207_e20221531709515_c20221531709577.nc\">,\n",
              "  <FSFile \"noaa-goes16/ABI-L1b-RadF/2022/153/17/OR_ABI-L1b-RadF-M6C09_G16_s20221531700207_e20221531709520_c20221531709595.nc\">,\n",
              "  <FSFile \"noaa-goes16/ABI-L1b-RadF/2022/153/17/OR_ABI-L1b-RadF-M6C10_G16_s20221531700207_e20221531709526_c20221531709573.nc\">,\n",
              "  <FSFile \"noaa-goes16/ABI-L1b-RadF/2022/153/17/OR_ABI-L1b-RadF-M6C11_G16_s20221531700207_e20221531709515_c20221531709579.nc\">,\n",
              "  <FSFile \"noaa-goes16/ABI-L1b-RadF/2022/153/17/OR_ABI-L1b-RadF-M6C12_G16_s20221531700207_e20221531709520_c20221531709576.nc\">,\n",
              "  <FSFile \"noaa-goes16/ABI-L1b-RadF/2022/153/17/OR_ABI-L1b-RadF-M6C13_G16_s20221531700207_e20221531709526_c20221531709589.nc\">,\n",
              "  <FSFile \"noaa-goes16/ABI-L1b-RadF/2022/153/17/OR_ABI-L1b-RadF-M6C14_G16_s20221531700207_e20221531709515_c20221531709586.nc\">,\n",
              "  <FSFile \"noaa-goes16/ABI-L1b-RadF/2022/153/17/OR_ABI-L1b-RadF-M6C15_G16_s20221531700207_e20221531709520_c20221531709582.nc\">,\n",
              "  <FSFile \"noaa-goes16/ABI-L1b-RadF/2022/153/17/OR_ABI-L1b-RadF-M6C16_G16_s20221531700207_e20221531709526_c20221531709592.nc\">],\n",
              " [<FSFile \"noaa-goes16/ABI-L1b-RadF/2022/154/17/OR_ABI-L1b-RadF-M6C01_G16_s20221541700207_e20221541709516_c20221541709568.nc\">,\n",
              "  <FSFile \"noaa-goes16/ABI-L1b-RadF/2022/154/17/OR_ABI-L1b-RadF-M6C02_G16_s20221541700207_e20221541709516_c20221541709559.nc\">,\n",
              "  <FSFile \"noaa-goes16/ABI-L1b-RadF/2022/154/17/OR_ABI-L1b-RadF-M6C03_G16_s20221541700207_e20221541709516_c20221541709565.nc\">,\n",
              "  <FSFile \"noaa-goes16/ABI-L1b-RadF/2022/154/17/OR_ABI-L1b-RadF-M6C04_G16_s20221541700207_e20221541709515_c20221541709548.nc\">,\n",
              "  <FSFile \"noaa-goes16/ABI-L1b-RadF/2022/154/17/OR_ABI-L1b-RadF-M6C05_G16_s20221541700207_e20221541709516_c20221541709577.nc\">,\n",
              "  <FSFile \"noaa-goes16/ABI-L1b-RadF/2022/154/17/OR_ABI-L1b-RadF-M6C06_G16_s20221541700207_e20221541709521_c20221541709562.nc\">,\n",
              "  <FSFile \"noaa-goes16/ABI-L1b-RadF/2022/154/17/OR_ABI-L1b-RadF-M6C07_G16_s20221541700207_e20221541709527_c20221541709571.nc\">,\n",
              "  <FSFile \"noaa-goes16/ABI-L1b-RadF/2022/154/17/OR_ABI-L1b-RadF-M6C08_G16_s20221541700207_e20221541709515_c20221541709574.nc\">,\n",
              "  <FSFile \"noaa-goes16/ABI-L1b-RadF/2022/154/17/OR_ABI-L1b-RadF-M6C09_G16_s20221541700207_e20221541709521_c20221541709584.nc\">,\n",
              "  <FSFile \"noaa-goes16/ABI-L1b-RadF/2022/154/17/OR_ABI-L1b-RadF-M6C10_G16_s20221541700207_e20221541709527_c20221541709573.nc\">,\n",
              "  <FSFile \"noaa-goes16/ABI-L1b-RadF/2022/154/17/OR_ABI-L1b-RadF-M6C11_G16_s20221541700207_e20221541709515_c20221541709576.nc\">,\n",
              "  <FSFile \"noaa-goes16/ABI-L1b-RadF/2022/154/17/OR_ABI-L1b-RadF-M6C12_G16_s20221541700207_e20221541709521_c20221541709579.nc\">,\n",
              "  <FSFile \"noaa-goes16/ABI-L1b-RadF/2022/154/17/OR_ABI-L1b-RadF-M6C13_G16_s20221541700207_e20221541709527_c20221541709597.nc\">,\n",
              "  <FSFile \"noaa-goes16/ABI-L1b-RadF/2022/154/17/OR_ABI-L1b-RadF-M6C14_G16_s20221541700207_e20221541709516_c20221541709594.nc\">,\n",
              "  <FSFile \"noaa-goes16/ABI-L1b-RadF/2022/154/17/OR_ABI-L1b-RadF-M6C15_G16_s20221541700207_e20221541709521_c20221541709587.nc\">,\n",
              "  <FSFile \"noaa-goes16/ABI-L1b-RadF/2022/154/17/OR_ABI-L1b-RadF-M6C16_G16_s20221541700207_e20221541709527_c20221541709591.nc\">],\n",
              " [<FSFile \"noaa-goes16/ABI-L1b-RadF/2022/155/17/OR_ABI-L1b-RadF-M6C01_G16_s20221551700209_e20221551709517_c20221551709565.nc\">,\n",
              "  <FSFile \"noaa-goes16/ABI-L1b-RadF/2022/155/17/OR_ABI-L1b-RadF-M6C02_G16_s20221551700209_e20221551709517_c20221551709558.nc\">,\n",
              "  <FSFile \"noaa-goes16/ABI-L1b-RadF/2022/155/17/OR_ABI-L1b-RadF-M6C03_G16_s20221551700209_e20221551709517_c20221551709568.nc\">,\n",
              "  <FSFile \"noaa-goes16/ABI-L1b-RadF/2022/155/17/OR_ABI-L1b-RadF-M6C04_G16_s20221551700209_e20221551709517_c20221551709548.nc\">,\n",
              "  <FSFile \"noaa-goes16/ABI-L1b-RadF/2022/155/17/OR_ABI-L1b-RadF-M6C05_G16_s20221551700209_e20221551709517_c20221551709562.nc\">,\n",
              "  <FSFile \"noaa-goes16/ABI-L1b-RadF/2022/155/17/OR_ABI-L1b-RadF-M6C06_G16_s20221551700209_e20221551709522_c20221551709572.nc\">,\n",
              "  <FSFile \"noaa-goes16/ABI-L1b-RadF/2022/155/17/OR_ABI-L1b-RadF-M6C07_G16_s20221551700209_e20221551709528_c20221551709577.nc\">,\n",
              "  <FSFile \"noaa-goes16/ABI-L1b-RadF/2022/155/17/OR_ABI-L1b-RadF-M6C08_G16_s20221551700209_e20221551709517_c20221551709575.nc\">,\n",
              "  <FSFile \"noaa-goes16/ABI-L1b-RadF/2022/155/17/OR_ABI-L1b-RadF-M6C09_G16_s20221551700209_e20221551709522_c20221551709590.nc\">,\n",
              "  <FSFile \"noaa-goes16/ABI-L1b-RadF/2022/155/17/OR_ABI-L1b-RadF-M6C10_G16_s20221551700209_e20221551709528_c20221551709575.nc\">,\n",
              "  <FSFile \"noaa-goes16/ABI-L1b-RadF/2022/155/17/OR_ABI-L1b-RadF-M6C11_G16_s20221551700209_e20221551709517_c20221551709582.nc\">,\n",
              "  <FSFile \"noaa-goes16/ABI-L1b-RadF/2022/155/17/OR_ABI-L1b-RadF-M6C12_G16_s20221551700209_e20221551709522_c20221551709593.nc\">,\n",
              "  <FSFile \"noaa-goes16/ABI-L1b-RadF/2022/155/17/OR_ABI-L1b-RadF-M6C13_G16_s20221551700209_e20221551709528_c20221551710002.nc\">,\n",
              "  <FSFile \"noaa-goes16/ABI-L1b-RadF/2022/155/17/OR_ABI-L1b-RadF-M6C14_G16_s20221551700209_e20221551709517_c20221551709599.nc\">,\n",
              "  <FSFile \"noaa-goes16/ABI-L1b-RadF/2022/155/17/OR_ABI-L1b-RadF-M6C15_G16_s20221551700209_e20221551709522_c20221551709585.nc\">,\n",
              "  <FSFile \"noaa-goes16/ABI-L1b-RadF/2022/155/17/OR_ABI-L1b-RadF-M6C16_G16_s20221551700209_e20221551709528_c20221551709579.nc\">],\n",
              " [<FSFile \"noaa-goes16/ABI-L1b-RadF/2022/156/17/OR_ABI-L1b-RadF-M6C01_G16_s20221561700210_e20221561709518_c20221561709567.nc\">,\n",
              "  <FSFile \"noaa-goes16/ABI-L1b-RadF/2022/156/17/OR_ABI-L1b-RadF-M6C02_G16_s20221561700210_e20221561709518_c20221561709559.nc\">,\n",
              "  <FSFile \"noaa-goes16/ABI-L1b-RadF/2022/156/17/OR_ABI-L1b-RadF-M6C03_G16_s20221561700210_e20221561709518_c20221561709573.nc\">,\n",
              "  <FSFile \"noaa-goes16/ABI-L1b-RadF/2022/156/17/OR_ABI-L1b-RadF-M6C04_G16_s20221561700210_e20221561709518_c20221561709552.nc\">,\n",
              "  <FSFile \"noaa-goes16/ABI-L1b-RadF/2022/156/17/OR_ABI-L1b-RadF-M6C05_G16_s20221561700210_e20221561709518_c20221561709564.nc\">,\n",
              "  <FSFile \"noaa-goes16/ABI-L1b-RadF/2022/156/17/OR_ABI-L1b-RadF-M6C06_G16_s20221561700210_e20221561709523_c20221561709570.nc\">,\n",
              "  <FSFile \"noaa-goes16/ABI-L1b-RadF/2022/156/17/OR_ABI-L1b-RadF-M6C07_G16_s20221561700210_e20221561709529_c20221561709579.nc\">,\n",
              "  <FSFile \"noaa-goes16/ABI-L1b-RadF/2022/156/17/OR_ABI-L1b-RadF-M6C08_G16_s20221561700210_e20221561709518_c20221561709576.nc\">,\n",
              "  <FSFile \"noaa-goes16/ABI-L1b-RadF/2022/156/17/OR_ABI-L1b-RadF-M6C09_G16_s20221561700210_e20221561709523_c20221561709584.nc\">,\n",
              "  <FSFile \"noaa-goes16/ABI-L1b-RadF/2022/156/17/OR_ABI-L1b-RadF-M6C10_G16_s20221561700210_e20221561709529_c20221561709587.nc\">,\n",
              "  <FSFile \"noaa-goes16/ABI-L1b-RadF/2022/156/17/OR_ABI-L1b-RadF-M6C11_G16_s20221561700210_e20221561709518_c20221561709593.nc\">,\n",
              "  <FSFile \"noaa-goes16/ABI-L1b-RadF/2022/156/17/OR_ABI-L1b-RadF-M6C12_G16_s20221561700210_e20221561709523_c20221561709578.nc\">,\n",
              "  <FSFile \"noaa-goes16/ABI-L1b-RadF/2022/156/17/OR_ABI-L1b-RadF-M6C13_G16_s20221561700210_e20221561709529_c20221561709599.nc\">,\n",
              "  <FSFile \"noaa-goes16/ABI-L1b-RadF/2022/156/17/OR_ABI-L1b-RadF-M6C14_G16_s20221561700210_e20221561709518_c20221561709581.nc\">,\n",
              "  <FSFile \"noaa-goes16/ABI-L1b-RadF/2022/156/17/OR_ABI-L1b-RadF-M6C15_G16_s20221561700210_e20221561709523_c20221561709596.nc\">,\n",
              "  <FSFile \"noaa-goes16/ABI-L1b-RadF/2022/156/17/OR_ABI-L1b-RadF-M6C16_G16_s20221561700210_e20221561709529_c20221561709590.nc\">],\n",
              " [<FSFile \"noaa-goes16/ABI-L1b-RadF/2022/157/17/OR_ABI-L1b-RadF-M6C01_G16_s20221571700211_e20221571709519_c20221571709591.nc\">,\n",
              "  <FSFile \"noaa-goes16/ABI-L1b-RadF/2022/157/17/OR_ABI-L1b-RadF-M6C02_G16_s20221571700211_e20221571709519_c20221571709574.nc\">,\n",
              "  <FSFile \"noaa-goes16/ABI-L1b-RadF/2022/157/17/OR_ABI-L1b-RadF-M6C03_G16_s20221571700211_e20221571709519_c20221571709588.nc\">,\n",
              "  <FSFile \"noaa-goes16/ABI-L1b-RadF/2022/157/17/OR_ABI-L1b-RadF-M6C04_G16_s20221571700211_e20221571709519_c20221571709566.nc\">,\n",
              "  <FSFile \"noaa-goes16/ABI-L1b-RadF/2022/157/17/OR_ABI-L1b-RadF-M6C05_G16_s20221571700211_e20221571709519_c20221571709594.nc\">,\n",
              "  <FSFile \"noaa-goes16/ABI-L1b-RadF/2022/157/17/OR_ABI-L1b-RadF-M6C06_G16_s20221571700211_e20221571709524_c20221571709577.nc\">,\n",
              "  <FSFile \"noaa-goes16/ABI-L1b-RadF/2022/157/17/OR_ABI-L1b-RadF-M6C07_G16_s20221571700211_e20221571709530_c20221571709584.nc\">,\n",
              "  <FSFile \"noaa-goes16/ABI-L1b-RadF/2022/157/17/OR_ABI-L1b-RadF-M6C08_G16_s20221571700211_e20221571709519_c20221571709580.nc\">,\n",
              "  <FSFile \"noaa-goes16/ABI-L1b-RadF/2022/157/17/OR_ABI-L1b-RadF-M6C09_G16_s20221571700211_e20221571709524_c20221571709596.nc\">,\n",
              "  <FSFile \"noaa-goes16/ABI-L1b-RadF/2022/157/17/OR_ABI-L1b-RadF-M6C10_G16_s20221571700211_e20221571709530_c20221571709591.nc\">,\n",
              "  <FSFile \"noaa-goes16/ABI-L1b-RadF/2022/157/17/OR_ABI-L1b-RadF-M6C11_G16_s20221571700211_e20221571709519_c20221571709579.nc\">,\n",
              "  <FSFile \"noaa-goes16/ABI-L1b-RadF/2022/157/17/OR_ABI-L1b-RadF-M6C12_G16_s20221571700211_e20221571709524_c20221571709584.nc\">,\n",
              "  <FSFile \"noaa-goes16/ABI-L1b-RadF/2022/157/17/OR_ABI-L1b-RadF-M6C13_G16_s20221571700211_e20221571709530_c20221571710003.nc\">,\n",
              "  <FSFile \"noaa-goes16/ABI-L1b-RadF/2022/157/17/OR_ABI-L1b-RadF-M6C14_G16_s20221571700211_e20221571709519_c20221571709599.nc\">,\n",
              "  <FSFile \"noaa-goes16/ABI-L1b-RadF/2022/157/17/OR_ABI-L1b-RadF-M6C15_G16_s20221571700211_e20221571709525_c20221571709594.nc\">,\n",
              "  <FSFile \"noaa-goes16/ABI-L1b-RadF/2022/157/17/OR_ABI-L1b-RadF-M6C16_G16_s20221571700211_e20221571709530_c20221571709588.nc\">],\n",
              " [<FSFile \"noaa-goes16/ABI-L1b-RadF/2022/158/17/OR_ABI-L1b-RadF-M6C01_G16_s20221581700212_e20221581709520_c20221581709567.nc\">,\n",
              "  <FSFile \"noaa-goes16/ABI-L1b-RadF/2022/158/17/OR_ABI-L1b-RadF-M6C02_G16_s20221581700212_e20221581709520_c20221581709556.nc\">,\n",
              "  <FSFile \"noaa-goes16/ABI-L1b-RadF/2022/158/17/OR_ABI-L1b-RadF-M6C03_G16_s20221581700212_e20221581709520_c20221581709574.nc\">,\n",
              "  <FSFile \"noaa-goes16/ABI-L1b-RadF/2022/158/17/OR_ABI-L1b-RadF-M6C04_G16_s20221581700212_e20221581709520_c20221581709551.nc\">,\n",
              "  <FSFile \"noaa-goes16/ABI-L1b-RadF/2022/158/17/OR_ABI-L1b-RadF-M6C05_G16_s20221581700212_e20221581709520_c20221581709569.nc\">,\n",
              "  <FSFile \"noaa-goes16/ABI-L1b-RadF/2022/158/17/OR_ABI-L1b-RadF-M6C06_G16_s20221581700212_e20221581709525_c20221581709564.nc\">,\n",
              "  <FSFile \"noaa-goes16/ABI-L1b-RadF/2022/158/17/OR_ABI-L1b-RadF-M6C07_G16_s20221581700212_e20221581709531_c20221581709576.nc\">,\n",
              "  <FSFile \"noaa-goes16/ABI-L1b-RadF/2022/158/17/OR_ABI-L1b-RadF-M6C08_G16_s20221581700212_e20221581709520_c20221581709579.nc\">,\n",
              "  <FSFile \"noaa-goes16/ABI-L1b-RadF/2022/158/17/OR_ABI-L1b-RadF-M6C09_G16_s20221581700212_e20221581709525_c20221581709597.nc\">,\n",
              "  <FSFile \"noaa-goes16/ABI-L1b-RadF/2022/158/17/OR_ABI-L1b-RadF-M6C10_G16_s20221581700212_e20221581709531_c20221581709585.nc\">,\n",
              "  <FSFile \"noaa-goes16/ABI-L1b-RadF/2022/158/17/OR_ABI-L1b-RadF-M6C11_G16_s20221581700212_e20221581709520_c20221581709579.nc\">,\n",
              "  <FSFile \"noaa-goes16/ABI-L1b-RadF/2022/158/17/OR_ABI-L1b-RadF-M6C12_G16_s20221581700212_e20221581709525_c20221581709582.nc\">,\n",
              "  <FSFile \"noaa-goes16/ABI-L1b-RadF/2022/158/17/OR_ABI-L1b-RadF-M6C13_G16_s20221581700212_e20221581709531_c20221581709588.nc\">,\n",
              "  <FSFile \"noaa-goes16/ABI-L1b-RadF/2022/158/17/OR_ABI-L1b-RadF-M6C14_G16_s20221581700212_e20221581709520_c20221581710000.nc\">,\n",
              "  <FSFile \"noaa-goes16/ABI-L1b-RadF/2022/158/17/OR_ABI-L1b-RadF-M6C15_G16_s20221581700212_e20221581709525_c20221581709590.nc\">,\n",
              "  <FSFile \"noaa-goes16/ABI-L1b-RadF/2022/158/17/OR_ABI-L1b-RadF-M6C16_G16_s20221581700212_e20221581709531_c20221581709594.nc\">]]"
            ]
          },
          "metadata": {},
          "execution_count": 236
        }
      ]
    },
    {
      "cell_type": "code",
      "source": [
        "for i in range(len(files)):\n",
        "\n",
        "  scn = Scene(filenames=files[i], reader='abi_l1b')\n",
        "\n",
        "  for j in range(len(bands)):\n",
        "\n",
        "    base_filename = os.path.basename(files[i][bands[j]-1])\n",
        "\n",
        "    output_filename = f\"{directory}/{product_name}/{year}/{day_of_year+i}/{base_filename[:-3]}.tif\"\n",
        "\n",
        "    scn.load([f'C0{bands[j]}'])\n",
        "\n",
        "    scn.save_dataset(f'C0{bands[j]}', filename=output_filename)"
      ],
      "metadata": {
        "collapsed": true,
        "id": "GRQijgToImqQ"
      },
      "execution_count": 237,
      "outputs": []
    },
    {
      "cell_type": "code",
      "source": [],
      "metadata": {
        "id": "GPnIxRsdFJA8"
      },
      "execution_count": null,
      "outputs": []
    }
  ]
}